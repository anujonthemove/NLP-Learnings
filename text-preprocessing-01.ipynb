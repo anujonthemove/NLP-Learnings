{
 "cells": [
  {
   "cell_type": "markdown",
   "metadata": {},
   "source": [
    "A diacritic is a mark, point, or sign that is added to a letter or character to: \n",
    "\n",
    "* Distinguish it from another of similar form\n",
    "* Give it a particular phonetic value\n",
    "* Indicate stress\n",
    "\n",
    "Diacritics are often loosely called \"accents\". They are written above, below, or on top of certain letters of the alphabet to indicate something about their pronunciation. \n",
    "\n",
    "\n",
    "Examples of diacritics include: Cedilla, Tilde, Circumflex, Macron."
   ]
  },
  {
   "cell_type": "code",
   "execution_count": 2,
   "metadata": {},
   "outputs": [
    {
     "name": "stdout",
     "output_type": "stream",
     "text": [
      "Héllò, Wórld!\n"
     ]
    }
   ],
   "source": [
    "import unicodedata\n",
    "\n",
    "str1 = \"Héllò, Wórld!\"\n",
    "\n",
    "# Canonical decomposition\n",
    "normalized_str1 = unicodedata.normalize(\"NFC\", str1)\n",
    "\n",
    "print(normalized_str1)"
   ]
  },
  {
   "cell_type": "code",
   "execution_count": 3,
   "metadata": {},
   "outputs": [
    {
     "name": "stdout",
     "output_type": "stream",
     "text": [
      "H\n",
      "e\n",
      "́\n",
      "l\n",
      "l\n",
      "o\n",
      "̀\n",
      ",\n",
      " \n",
      "W\n",
      "o\n",
      "́\n",
      "r\n",
      "l\n",
      "d\n",
      "!\n"
     ]
    }
   ],
   "source": [
    "for c in unicodedata.normalize('NFD', str1):\n",
    "    print(c)"
   ]
  },
  {
   "cell_type": "markdown",
   "metadata": {},
   "source": [
    "As can be seen above, if we apply this normalization scheme on a text which has diatrics, then it strips off the diatric from the letter.\n",
    "\n",
    "Below we can filter out the text using `unicodedata.category()` function"
   ]
  },
  {
   "cell_type": "code",
   "execution_count": 4,
   "metadata": {},
   "outputs": [
    {
     "name": "stdout",
     "output_type": "stream",
     "text": [
      "Literal: H, Category: Lu\n",
      "Literal: e, Category: Ll\n",
      "Literal: ́, Category: Mn\n",
      "Literal: l, Category: Ll\n",
      "Literal: l, Category: Ll\n",
      "Literal: o, Category: Ll\n",
      "Literal: ̀, Category: Mn\n",
      "Literal: ,, Category: Po\n",
      "Literal:  , Category: Zs\n",
      "Literal: W, Category: Lu\n",
      "Literal: o, Category: Ll\n",
      "Literal: ́, Category: Mn\n",
      "Literal: r, Category: Ll\n",
      "Literal: l, Category: Ll\n",
      "Literal: d, Category: Ll\n",
      "Literal: !, Category: Po\n"
     ]
    }
   ],
   "source": [
    "for c in unicodedata.normalize('NFD', str1):\n",
    "    print(f\"Literal: {c}, Category: {unicodedata.category(c)}\")"
   ]
  },
  {
   "cell_type": "code",
   "execution_count": 17,
   "metadata": {},
   "outputs": [],
   "source": [
    "import string\n",
    "\n",
    "all_letters = string.ascii_letters + \" .,;'\"\n",
    "char_string = \"Ślusàrski\""
   ]
  },
  {
   "cell_type": "code",
   "execution_count": 18,
   "metadata": {},
   "outputs": [
    {
     "name": "stdout",
     "output_type": "stream",
     "text": [
      "S\n",
      "l\n",
      "u\n",
      "s\n",
      "a\n",
      "r\n",
      "s\n",
      "k\n",
      "i\n"
     ]
    }
   ],
   "source": [
    "\n",
    "for c in unicodedata.normalize('NFD', char_string):\n",
    "    if unicodedata.category(c) != 'Mn' and c in all_letters:\n",
    "        print(c)"
   ]
  },
  {
   "cell_type": "code",
   "execution_count": null,
   "metadata": {},
   "outputs": [],
   "source": []
  }
 ],
 "metadata": {
  "kernelspec": {
   "display_name": "pytorch",
   "language": "python",
   "name": "python3"
  },
  "language_info": {
   "codemirror_mode": {
    "name": "ipython",
    "version": 3
   },
   "file_extension": ".py",
   "mimetype": "text/x-python",
   "name": "python",
   "nbconvert_exporter": "python",
   "pygments_lexer": "ipython3",
   "version": "3.10.12"
  }
 },
 "nbformat": 4,
 "nbformat_minor": 2
}
